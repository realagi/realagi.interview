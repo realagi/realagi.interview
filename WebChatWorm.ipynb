{
 "cells": [
  {
   "cell_type": "markdown",
   "metadata": {},
   "source": [
    " - WebChatWorm is the application that seeks for accessible computers with open ports and tries to gain to them using the credentials it have learned"
   ]
  },
  {
   "cell_type": "markdown",
   "metadata": {},
   "source": [
    "- Instances of WebChatWorm originating by one launch belong to one WebChatWorm Federation that shares found on computers credentials"
   ]
  },
  {
   "cell_type": "markdown",
   "metadata": {},
   "source": [
    "- some computers have credentials to (some specific subset of) computers, some dont"
   ]
  },
  {
   "cell_type": "markdown",
   "metadata": {},
   "source": [
    "# Model and visualize potential distribution of the WebChatWorm within random topography of random computers"
   ]
  },
  {
   "cell_type": "markdown",
   "metadata": {},
   "source": []
  }
 ],
 "metadata": {
  "language_info": {
   "name": "python"
  }
 },
 "nbformat": 4,
 "nbformat_minor": 2
}
