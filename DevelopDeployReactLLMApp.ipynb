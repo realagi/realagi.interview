{
 "cells": [
  {
   "cell_type": "markdown",
   "metadata": {},
   "source": [
    "Develop an app with a React front end and some database backend with a simple text input that uses the chatgpt API to create a simple chatgpt clone - your message history is stored in the database and then shown to you when you open the website as simplest chat. Deploy it on any cloud platform"
   ]
  },
  {
   "cell_type": "markdown",
   "metadata": {},
   "source": []
  }
 ],
 "metadata": {
  "language_info": {
   "name": "python"
  }
 },
 "nbformat": 4,
 "nbformat_minor": 2
}
