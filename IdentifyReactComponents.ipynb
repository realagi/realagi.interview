{
 "cells": [
  {
   "cell_type": "markdown",
   "metadata": {},
   "source": [
    "Attach screenshot of VSCode launching project and showing React Component structure in [React Developer Tools](https://chromewebstore.google.com/detail/react-developer-tools/fmkadmapgofadopljbjfkapdkoienihi?hl=en&pli=1) or alternative tool for following React Components: [1](https://github.com/langfuse/langfuse/blob/main/web/src/components/ChatMessages/ChatMessageComponent.tsx), [2](https://github.com/mediar-ai/screenpipe/blob/main/pipes/meeting/src/components/ui/toast.tsx), [3](https://github.com/mediar-ai/screenpipe/blob/main/pipes/linkedin-ai-assistant/components/settings-editor.tsx), [4](https://github.com/mediar-ai/screenpipe/blob/main/pipes/rewind/src/components/ui/slider.tsx)"
   ]
  }
 ],
 "metadata": {
  "language_info": {
   "name": "python"
  }
 },
 "nbformat": 4,
 "nbformat_minor": 2
}
