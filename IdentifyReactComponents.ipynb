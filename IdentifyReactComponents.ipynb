{
 "cells": [
  {
   "cell_type": "markdown",
   "metadata": {},
   "source": [
    "Attach screenshot of VSCode launching project and showing React Component structure in [React Developer Tools](https://chromewebstore.google.com/detail/react-developer-tools/fmkadmapgofadopljbjfkapdkoienihi?hl=en&pli=1) or alternative tool for following React Components: [1](https://github.com/langfuse/langfuse/blob/main/web/src/components/ChatMessages/ChatMessageComponent.tsx), [2](https://github.com/mediar-ai/screenpipe/blob/main/pipes/meeting/src/components/ui/toast.tsx), [3](https://github.com/mediar-ai/screenpipe/blob/main/pipes/linkedin-ai-assistant/components/settings-editor.tsx), [4](https://github.com/mediar-ai/screenpipe/blob/main/pipes/rewind/src/components/ui/slider.tsx), [5](https://github.com/web-infra-dev/midscene/blob/175a8957abfb976bc4a1ba03c93afaf154a328e4/packages/visualizer/src/component/env-config.tsx#L2), [6](https://github.com/cline/cline/blob/main/webview-ui/src/components/browser/BrowserSettingsMenu.tsx), [7](https://github.com/continuedev/continue/blob/main/gui/src/components/dialogs/FeedbackDialog.tsx), [8](https://github.com/danny-avila/LibreChat/blob/main/client/src/components/Chat/ChatView.tsx), [9](https://github.com/nanbingxyz/5ire/blob/47b240e3b784ca77bab87b6a94a7499467528e7c/src/renderer/pages/chat/Editor/Toolbar/ModelCtrl.tsx#L11)"
   ]
  },
  {
   "cell_type": "markdown",
   "metadata": {},
   "source": [
    "note: some enviroments, like Screenpipe app that uses `tauri` require [special approach](https://stackoverflow.com/questions/74324130/can-you-use-react-developer-tools-on-a-tauri-app-that-uses-react-js) for React Development Tools usage"
   ]
  }
 ],
 "metadata": {
  "language_info": {
   "name": "python"
  }
 },
 "nbformat": 4,
 "nbformat_minor": 2
}
