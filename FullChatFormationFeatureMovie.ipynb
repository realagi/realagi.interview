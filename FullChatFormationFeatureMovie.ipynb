{
 "cells": [
  {
   "cell_type": "code",
   "execution_count": null,
   "metadata": {},
   "outputs": [],
   "source": [
    "prompt = \"\"\"\n",
    "authentik -> (behind linkwarden): litellm, openwebui, lanfuse, graphana, prometheus, agrocd, kasm\n",
    "kasm per openwebui hosted pipeline request launches docker with Screenpipe and LibreChat accessing that screenpipe over MCP, exposing its session to OpenWebUI agent using HTTP openai agents protocol\n",
    "\"\"\""
   ]
  },
  {
   "cell_type": "markdown",
   "metadata": {},
   "source": [
    "Generate, using any tools available from given `prompt` describing a formation of the k8n application:"
   ]
  },
  {
   "cell_type": "markdown",
   "metadata": {},
   "source": [
    "# Series of the diagrams"
   ]
  },
  {
   "cell_type": "markdown",
   "metadata": {},
   "source": [
    "# A movie displaying series of these diagrams and voice overlay with explanation"
   ]
  }
 ],
 "metadata": {
  "kernelspec": {
   "display_name": "Python 3",
   "language": "python",
   "name": "python3"
  },
  "language_info": {
   "name": "python",
   "version": "3.9.6"
  }
 },
 "nbformat": 4,
 "nbformat_minor": 2
}
