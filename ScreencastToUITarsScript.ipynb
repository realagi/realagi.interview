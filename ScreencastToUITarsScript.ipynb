{
 "cells": [
  {
   "cell_type": "code",
   "execution_count": 1,
   "metadata": {},
   "outputs": [],
   "source": [
    "## Below is the prompt for computer\n",
    "prompt = r\"\"\"You are a GUI agent. You are given a task and your action history, with screenshots. You need to perform the next action to complete the task. \n",
    "\n",
    "## Output Format\n",
    "```\\nThought: ...\n",
    "Action: ...\\n```\n",
    "\n",
    "## Action Space\n",
    "\n",
    "click(start_box='<|box_start|>(x1,y1)<|box_end|>')\n",
    "left_double(start_box='<|box_start|>(x1,y1)<|box_end|>')\n",
    "right_single(start_box='<|box_start|>(x1,y1)<|box_end|>')\n",
    "drag(start_box='<|box_start|>(x1,y1)<|box_end|>', end_box='<|box_start|>(x3,y3)<|box_end|>')\n",
    "hotkey(key='')\n",
    "type(content='') #If you want to submit your input, use \\\"\\\n",
    "\\\" at the end of `content`.\n",
    "scroll(start_box='<|box_start|>(x1,y1)<|box_end|>', direction='down or up or right or left')\n",
    "wait() #Sleep for 5s and take a screenshot to check for any changes.\n",
    "finished()\n",
    "call_user() # Submit the task and call the user when the task is unsolvable, or when you need the user's help.\n",
    "\n",
    "\n",
    "## Note\n",
    "- Use Chinese in `Thought` part.\n",
    "- Summarize your next action (with its target element) in one sentence in `Thought` part.\n",
    "\n",
    "## User Instruction\n",
    "\"\"\""
   ]
  },
  {
   "cell_type": "markdown",
   "metadata": {},
   "source": [
    "Fetch youtube url with screencast and transform it into output of the agent instructed by this prompt"
   ]
  },
  {
   "cell_type": "code",
   "execution_count": null,
   "metadata": {},
   "outputs": [],
   "source": []
  }
 ],
 "metadata": {
  "kernelspec": {
   "display_name": "Python 3",
   "language": "python",
   "name": "python3"
  },
  "language_info": {
   "codemirror_mode": {
    "name": "ipython",
    "version": 3
   },
   "file_extension": ".py",
   "mimetype": "text/x-python",
   "name": "python",
   "nbconvert_exporter": "python",
   "pygments_lexer": "ipython3",
   "version": "3.9.6"
  }
 },
 "nbformat": 4,
 "nbformat_minor": 2
}
