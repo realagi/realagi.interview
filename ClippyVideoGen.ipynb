{
 "cells": [
  {
   "cell_type": "code",
   "execution_count": null,
   "metadata": {},
   "outputs": [],
   "source": [
    "prompt = \"\"\"\n",
    "Apply to Job/Scrap Jobs from Linkedin/Post Job To Linkedin/Respond to Job Applications/Respond to Interview Request in Gmail\n",
    "Launch VSCode/Install Cline and Continue/Enter OpenAI API Keys into both and output tell them \"Hi, you must respond only with one digit: \"1\" and nothing else.\"\"\n",
    "\"\"\"\n"
   ]
  },
  {
   "cell_type": "markdown",
   "metadata": {},
   "source": [
    "use `prompt` to output a generated slideshow video of the Clippy, chatting with user with prior chat with Clippy, UI Assistant history on screen of Windows or Ubuntu desktop (images of desktop could be either hallucinated or RPA scripted in virtual machine)"
   ]
  }
 ],
 "metadata": {
  "kernelspec": {
   "display_name": "Python 3",
   "language": "python",
   "name": "python3"
  },
  "language_info": {
   "codemirror_mode": {
    "name": "ipython",
    "version": 3
   },
   "file_extension": ".py",
   "mimetype": "text/x-python",
   "name": "python",
   "nbconvert_exporter": "python",
   "pygments_lexer": "ipython3",
   "version": "3.9.6"
  }
 },
 "nbformat": 4,
 "nbformat_minor": 2
}
