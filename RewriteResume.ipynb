{
 "cells": [
  {
   "cell_type": "markdown",
   "metadata": {},
   "source": [
    "given url containing job description and url containing pdf file with resume, produce resume matching job description"
   ]
  },
  {
   "cell_type": "code",
   "execution_count": null,
   "metadata": {},
   "outputs": [],
   "source": []
  }
 ],
 "metadata": {
  "language_info": {
   "name": "python"
  }
 },
 "nbformat": 4,
 "nbformat_minor": 2
}
