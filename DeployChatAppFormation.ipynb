{
 "cells": [
  {
   "cell_type": "markdown",
   "metadata": {},
   "source": [
    "Screen record whole process. \n",
    "\n",
    "Using of any Chatbots, documentation, googling and even \"asking someone to help\" via chat is allowed and does not reduce points."
   ]
  },
  {
   "cell_type": "markdown",
   "metadata": {},
   "source": [
    " - Deploy on your own cloud of your choice: \n",
    "  - [OpenWebUI](https://openwebui.com)\n",
    "  - [LangFuse](https://langfuse.com/docs)\n",
    "  - One of the SSO identity providers of your choice:\n",
    "    - [KeyCloak](https://www.keycloak.org)\n",
    "    - [rauthy](https://github.com/sebadob/rauthy)\n",
    "    - [Authentik](https://goauthentik.io)\n",
    "    - [Authelia](https://www.authelia.com)\n",
    " - enable SSO in both OpenWebUI and LangFuse to work with chosen identity provider\n",
    " - integrate LangFuse with OpenWebUI see [DOCS](https://langfuse.com/docs/integrations/openwebui)\n"
   ]
  },
  {
   "cell_type": "markdown",
   "metadata": {},
   "source": []
  },
  {
   "cell_type": "markdown",
   "metadata": {},
   "source": [
    "help materials:\n",
    "\n",
    " - https://blog.joshuastock.net/getting-started-with-authentik-or-keycloak-and-open-web-ui-a-step-by-step-guide\n",
    " - "
   ]
  },
  {
   "cell_type": "markdown",
   "metadata": {},
   "source": [
    "Upload video(s) of screenrecording of session(s) to S3 or similiar cloud storage, share it"
   ]
  }
 ],
 "metadata": {
  "language_info": {
   "name": "python"
  }
 },
 "nbformat": 4,
 "nbformat_minor": 2
}
